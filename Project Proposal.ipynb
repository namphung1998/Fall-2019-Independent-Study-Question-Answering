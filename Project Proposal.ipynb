{
 "cells": [
  {
   "cell_type": "markdown",
   "metadata": {},
   "source": [
    "# Project Proposal: Machine Learning System Design and Implementation for Question Answering\n",
    "\n",
    "**Author**: Nam Phung \\\n",
    "**Advisor**: Professor Susan Fox \\\n",
    "*Macalester College, Department of Mathematics, Statistics, and Computer Science* \\\n",
    "Fall 2019\n",
    "\n",
    "<!--TOC-->"
   ]
  },
  {
   "cell_type": "markdown",
   "metadata": {},
   "source": [
    "## 1. Introduction\n",
    "\n",
    "**Natural Language Processing** (NLP) is a branch of Artificial Intelligence that is concerned with programming computers to analyze and process natural language data. In particular, the goal of NLP is to enable machine systems to perform useful tasks involving the human language [1]. Examples of applications that are widely used today include *machine translation*, *sentiment analysis*, and *spell checking*. For this project, we will be exploring the task of **question answering**, that is, the process of extracting information from text documents, conditioned on some query provided by an user. Question answering (QA) systems have seen huge applications, most notably in chatbots that are designed to help streamline the process of information gathering. In particular, we will discuss **Deep Learning** techniques to address this problem. The goal of this project is to build a complete pipeline for a QA system that can serve as a *minimal viable product* (MVP) for a client-facing service.\n",
    "\n",
    "## 2. Background\n",
    "\n",
    "### 2.1. Natural Language Processing\n",
    "\n",
    "Natural Language Processing is fairly young area of research, dating back to the 1950s, when Alan Turing first proposed the Turing test [2], which provided a critetion to assess machine intelligence. Rule-based approaches to language processing, made popular by the invention of *context-free grammar* by Noah Chomsky, became prominent, with some early success in building conversational systems. Improvements in computational power and the amount of text data in the 1980s has given rise to *statistical methods* for language processing, with machine learning algorithms being employed to produce probabilistic decisions. \n",
    "\n",
    "Natural Language Processing is a challenging problem in Computer Science because of the nature of the human language. The rules of human language cannot be easily modeled by a machine, and the ambiguities associated with any languages make it hard for a machine to be fully aware of the true meaning a sentence is meant to convey. \n",
    "\n",
    "### 2.2. Word Representations\n",
    "\n",
    "Words are often considered the *constituent units* that make up human language. Earlier works in NLP treated words as separate symbols, often represented by one-hot vectors. This *localist* approach to representing words failed to model the similarities between words. Modern NLP techniques often employ some kind of word embeddings that are able to capture this notion of similarity and difference between words. These *dense* representations of words are able to model their semantics (meaning), more computationally efficient to use, and have proved to be effective in many tasks. The most prominent algorithms for finding these embeddings are word2vec [cite] and GloVe [cite]. For simplicity, we will be using the pretrained GloVe embeddings. Word vectors are particularly relevant when it comes to statistical approaches to language processing, which include the deep learning approaches that we explore in this project.\n",
    "\n",
    "### 2.3. Feed-forward Neural Networks\n",
    "\n",
    "### 2.4. Recurrent Neural Networks\n",
    "\n",
    "### 2.5. Sequence-to-Sequence Architecture\n",
    "\n",
    "## 3. Approach\n"
   ]
  },
  {
   "cell_type": "markdown",
   "metadata": {},
   "source": [
    "### References\n",
    "\n",
    "1. Speech and Language Processing\n",
    "2. Computing Machinery and Intelligence"
   ]
  }
 ],
 "metadata": {
  "kernelspec": {
   "display_name": "Python 3 (bert-squad)",
   "language": "python",
   "name": "bert-squad"
  },
  "language_info": {
   "codemirror_mode": {
    "name": "ipython",
    "version": 3
   },
   "file_extension": ".py",
   "mimetype": "text/x-python",
   "name": "python",
   "nbconvert_exporter": "python",
   "pygments_lexer": "ipython3",
   "version": "3.7.4"
  }
 },
 "nbformat": 4,
 "nbformat_minor": 2
}
