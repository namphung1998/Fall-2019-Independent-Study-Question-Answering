{
 "cells": [
  {
   "cell_type": "code",
   "execution_count": 16,
   "metadata": {},
   "outputs": [],
   "source": [
    "import torch\n",
    "import torch.nn as nn\n",
    "import torch.nn.functional as F\n",
    "from torch.nn.utils.rnn import pack_padded_sequence, pad_packed_sequence"
   ]
  },
  {
   "cell_type": "code",
   "execution_count": 63,
   "metadata": {},
   "outputs": [
    {
     "data": {
      "text/plain": [
       "PackedSequence(data=tensor([[0.4795, 0.6125, 0.7681],\n",
       "        [0.4846, 0.4719, 0.1477],\n",
       "        [0.4142, 0.1841, 0.4725],\n",
       "        [0.6280, 0.7970, 0.3671],\n",
       "        [0.1037, 0.5679, 0.7388],\n",
       "        [0.8295, 0.2900, 0.5131],\n",
       "        [0.8425, 0.2532, 0.6539],\n",
       "        [0.0970, 0.0109, 0.6240],\n",
       "        [0.0292, 0.8245, 0.1862],\n",
       "        [0.8515, 0.9593, 0.2476],\n",
       "        [0.3218, 0.0706, 0.1426],\n",
       "        [0.0530, 0.4960, 0.7196]]), batch_sizes=tensor([5, 5, 2]), sorted_indices=None, unsorted_indices=None)"
      ]
     },
     "execution_count": 63,
     "metadata": {},
     "output_type": "execute_result"
    }
   ],
   "source": [
    "gru = nn.GRU(3, 3, bidirectional=True)\n",
    "X = torch.rand(4, 5, 3)\n",
    "X = pack_padded_sequence(X, [3, 3, 2, 2, 2])\n",
    "X"
   ]
  },
  {
   "cell_type": "code",
   "execution_count": 64,
   "metadata": {},
   "outputs": [],
   "source": [
    "## lstm: input: (seq_len, batch, input_size) -> (seq_len, batch, hidden_size * n_directions)\n",
    "y = gru(X)\n",
    "hiddens, _ = y"
   ]
  },
  {
   "cell_type": "code",
   "execution_count": 65,
   "metadata": {},
   "outputs": [
    {
     "data": {
      "text/plain": [
       "torch.Size([5, 3, 6])"
      ]
     },
     "execution_count": 65,
     "metadata": {},
     "output_type": "execute_result"
    }
   ],
   "source": [
    "hiddens = pad_packed_sequence(hiddens, batch_first=True)\n",
    "hiddens[0].shape"
   ]
  },
  {
   "cell_type": "code",
   "execution_count": 66,
   "metadata": {},
   "outputs": [
    {
     "data": {
      "text/plain": [
       "(tensor([[[ 0.4571,  0.2532, -0.3475,  0.2436,  0.1106, -0.0134],\n",
       "          [ 0.6832,  0.2752, -0.3681,  0.0572,  0.2709,  0.1423],\n",
       "          [ 0.7097,  0.4628, -0.2634,  0.0511,  0.1874,  0.0906]],\n",
       " \n",
       "         [[ 0.4179,  0.3034, -0.1914,  0.1222,  0.3304,  0.0968],\n",
       "          [ 0.6594,  0.3047, -0.3497,  0.1172,  0.2251,  0.0076],\n",
       "          [ 0.7501,  0.4787, -0.4383,  0.2938, -0.0527, -0.1343]],\n",
       " \n",
       "         [[ 0.4310,  0.3011, -0.2385,  0.1753,  0.1859, -0.0225],\n",
       "          [ 0.6163,  0.4742, -0.3281,  0.2079,  0.0184, -0.0826],\n",
       "          [ 0.0000,  0.0000,  0.0000,  0.0000,  0.0000,  0.0000]],\n",
       " \n",
       "         [[ 0.4442,  0.2491, -0.2822,  0.1698,  0.2610,  0.0448],\n",
       "          [ 0.6131,  0.4723, -0.2909,  0.2128,  0.0933, -0.0268],\n",
       "          [ 0.0000,  0.0000,  0.0000,  0.0000,  0.0000,  0.0000]],\n",
       " \n",
       "         [[ 0.4460,  0.3127, -0.3458,  0.3049,  0.0282, -0.0987],\n",
       "          [ 0.6768,  0.2813, -0.3457,  0.0391,  0.2553,  0.1466],\n",
       "          [ 0.0000,  0.0000,  0.0000,  0.0000,  0.0000,  0.0000]]],\n",
       "        grad_fn=<TransposeBackward0>), tensor([3, 3, 2, 2, 2]))"
      ]
     },
     "execution_count": 66,
     "metadata": {},
     "output_type": "execute_result"
    }
   ],
   "source": [
    "hiddens"
   ]
  },
  {
   "cell_type": "code",
   "execution_count": null,
   "metadata": {},
   "outputs": [],
   "source": []
  }
 ],
 "metadata": {
  "kernelspec": {
   "display_name": "Python 3 (bert-squad)",
   "language": "python",
   "name": "bert-squad"
  },
  "language_info": {
   "codemirror_mode": {
    "name": "ipython",
    "version": 3
   },
   "file_extension": ".py",
   "mimetype": "text/x-python",
   "name": "python",
   "nbconvert_exporter": "python",
   "pygments_lexer": "ipython3",
   "version": "3.7.4"
  }
 },
 "nbformat": 4,
 "nbformat_minor": 2
}
