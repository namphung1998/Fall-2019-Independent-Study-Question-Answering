{
 "cells": [
  {
   "cell_type": "code",
   "execution_count": 1,
   "metadata": {},
   "outputs": [],
   "source": [
    "import torch\n",
    "import torchtext.vocab as vocab"
   ]
  },
  {
   "cell_type": "code",
   "execution_count": 2,
   "metadata": {},
   "outputs": [
    {
     "name": "stderr",
     "output_type": "stream",
     "text": [
      ".vector_cache/glove.6B.zip: 862MB [00:43, 19.8MB/s]                               \n",
      "100%|█████████▉| 399773/400000 [00:30<00:00, 12967.65it/s]"
     ]
    },
    {
     "name": "stdout",
     "output_type": "stream",
     "text": [
      "Loaded 400000 words\n"
     ]
    },
    {
     "name": "stderr",
     "output_type": "stream",
     "text": [
      "\r",
      "100%|█████████▉| 399773/400000 [00:50<00:00, 12967.65it/s]"
     ]
    }
   ],
   "source": [
    "glove = vocab.GloVe(name='6B', dim=300)\n",
    "\n",
    "print(f'Loaded {len(glove.itos)} words')"
   ]
  },
  {
   "cell_type": "code",
   "execution_count": 3,
   "metadata": {},
   "outputs": [],
   "source": [
    "def get_word(word):\n",
    "    return glove.vectors[glove.stoi[word]]\n",
    "    "
   ]
  },
  {
   "cell_type": "code",
   "execution_count": 8,
   "metadata": {},
   "outputs": [
    {
     "data": {
      "text/plain": [
       "tensor([ 8.2563e-01, -3.4687e-01,  6.7669e-02, -2.7706e-01,  1.0832e-01,\n",
       "         2.5569e-01,  2.3341e-01, -9.7923e-02, -4.9332e-01,  7.2152e-01,\n",
       "        -3.1702e-01, -2.3777e-01,  2.0649e-01, -7.2911e-02,  1.3507e-02,\n",
       "        -3.9344e-01,  9.5448e-01, -2.5526e-02,  4.3216e-01,  3.0618e-01,\n",
       "         3.1624e-01, -4.9922e-02, -3.8826e-01,  3.5138e-01,  4.0669e-01,\n",
       "         8.1954e-02, -2.0548e-01,  2.7826e-01,  1.4545e-01, -2.8673e-01,\n",
       "         4.1910e-02, -6.4725e-02,  2.1506e-01, -9.4585e-02,  7.6240e-01,\n",
       "         4.5382e-01, -4.5007e-02, -6.3548e-02, -5.9196e-01,  3.4094e-01,\n",
       "         5.5637e-02, -2.4242e-01, -3.8667e-01,  2.5958e-01,  6.3004e-01,\n",
       "         3.0439e-01,  6.0058e-02, -4.4448e-02,  3.4589e-01,  2.5321e-01,\n",
       "        -3.3550e-02,  3.2181e-01,  2.4651e-01, -5.4749e-01,  5.7748e-01,\n",
       "        -2.9472e-01,  4.5250e-01, -1.2869e-01, -5.0504e-01,  1.4394e-01,\n",
       "        -1.2517e-02,  4.7250e-01, -2.8799e-02, -1.9331e-01,  3.8695e-01,\n",
       "         2.8681e-01, -2.1591e-01, -4.1032e-01,  2.0112e-01,  1.3745e-01,\n",
       "         1.2909e-01, -5.2764e-01,  2.0368e-01, -6.8091e-02,  7.6997e-01,\n",
       "         1.9516e-01, -7.7554e-01, -1.1197e-01,  2.3862e-01,  1.0002e-01,\n",
       "         1.9475e-02,  1.6076e-01, -5.0263e-01, -2.5958e-01,  1.6378e-01,\n",
       "        -1.4451e-01, -3.4374e-01,  5.0002e-01, -3.8009e-01,  5.3451e-01,\n",
       "        -1.0838e-01, -2.2773e-01,  2.4279e-01, -3.9745e-01,  6.8183e-01,\n",
       "         3.5559e-01,  3.0488e-01, -6.5696e-02,  2.0556e-01,  4.8775e-01,\n",
       "        -8.6778e-01,  3.6086e-01, -6.6273e-01,  4.3494e-01,  2.5663e-01,\n",
       "        -2.3348e-01, -5.2267e-02, -2.5435e-01, -2.8799e-01, -1.0456e-02,\n",
       "         4.4377e-01, -9.4564e-02,  6.1161e-02,  6.0545e-01,  1.7429e-02,\n",
       "        -2.2239e-01,  5.5652e-02, -4.2794e-01,  4.5210e-01, -1.7606e-01,\n",
       "        -4.2890e-01,  3.3269e-01,  5.6091e-02,  2.4527e-01,  1.7164e-02,\n",
       "        -9.4740e-03, -3.1317e-01,  8.1609e-01,  5.7501e-02,  2.7391e-01,\n",
       "         1.6375e-01, -3.9722e-01, -9.0602e-03, -1.2079e-01, -5.3552e-02,\n",
       "         2.3928e-01,  4.1706e-02,  2.9096e-01, -3.3255e-01,  3.8235e-02,\n",
       "        -1.5564e-01,  5.4699e-01, -1.1279e-01, -2.7289e-01,  8.2957e-01,\n",
       "        -4.3980e-02, -4.6484e-01, -6.6029e-01,  6.0245e-01,  3.3448e-01,\n",
       "        -3.4558e-01,  1.0205e-01, -6.4112e-02,  1.1969e-01, -7.3191e-02,\n",
       "        -2.5653e-01, -4.5928e-02, -4.2463e-01, -1.4583e-01, -7.4071e-04,\n",
       "        -2.4045e-01, -1.1890e-01,  2.0431e-01,  7.6108e-02, -3.0631e-01,\n",
       "         5.1146e-01,  6.2492e-01, -7.4703e-03,  2.5597e-01, -1.1730e-01,\n",
       "        -4.8838e-01,  4.2597e-02,  2.2916e-01, -9.6588e-01,  3.9027e-01,\n",
       "        -2.0859e-01,  2.2511e-01,  6.4530e-01, -1.2685e-02, -5.6494e-01,\n",
       "        -9.0562e-02, -6.9591e-01,  2.4997e-01,  4.2379e-01, -2.3399e-01,\n",
       "         7.3631e-02,  1.1479e+00,  8.3358e-01,  3.4321e-01,  5.5424e-01,\n",
       "        -3.1526e-01,  1.9184e-02, -4.8679e-01,  7.2714e-02,  9.5145e-01,\n",
       "         2.7585e-01, -6.0205e-02,  1.5607e-01,  1.5024e-01, -1.1427e-01,\n",
       "        -4.0896e-01, -3.2979e-01,  3.4855e-01, -5.1856e-01, -4.4275e-01,\n",
       "        -4.4525e-01, -7.6675e-02,  1.6650e-01, -7.1266e-02,  1.5512e-01,\n",
       "        -8.4991e-02, -2.8345e-01, -8.9397e-02,  1.2959e-01, -5.4811e-01,\n",
       "         5.1427e-01, -2.2259e-01,  5.2246e-02, -1.8213e-01,  2.0399e-01,\n",
       "        -3.6779e-01, -1.4650e-02,  9.3708e-01, -7.8715e-03, -1.2679e-01,\n",
       "        -3.3875e-01, -1.4285e-02, -3.8690e-01,  5.2786e-01,  2.1166e-01,\n",
       "         3.6726e-03, -2.1144e-02, -1.6655e-01, -1.5196e-01,  2.4928e-02,\n",
       "        -6.2973e-01, -2.8255e-01, -3.1329e-01,  3.0016e-01, -2.2942e-01,\n",
       "        -2.1014e-03, -2.8865e-01, -8.8857e-02, -7.0189e-02, -4.2139e-03,\n",
       "         1.4253e-01, -1.0271e-01, -2.3412e-02,  1.8006e-01,  2.8016e-01,\n",
       "        -6.1562e-01,  1.3928e-01, -2.4262e-01, -9.6301e-02, -2.4427e-01,\n",
       "         7.6685e-01, -3.2525e-01,  2.8400e-01, -6.0377e-01,  1.7843e-02,\n",
       "         2.0909e-02,  6.8236e-02,  2.7248e-02,  3.2353e-01,  3.5410e-01,\n",
       "         5.2572e-01, -6.4422e-03, -3.1310e-01,  5.1086e-01, -3.9525e-01,\n",
       "         2.6600e-01,  1.8336e-01,  1.6168e-01,  3.9566e-02,  1.9236e-01,\n",
       "        -1.3346e-01,  5.3600e-01,  7.7057e-02, -4.3109e-01, -7.4736e-01,\n",
       "        -1.7430e-01, -4.2813e-01,  3.7369e-01,  3.4338e-01,  2.4051e-01,\n",
       "        -4.0355e-01,  1.5107e-01, -5.0222e-01,  4.2961e-02, -7.9294e-02,\n",
       "        -3.4849e-01,  2.0828e-02,  2.8717e-02, -1.9669e-01,  6.0641e-01,\n",
       "        -1.3260e-01, -4.0036e-01, -2.1901e-02,  6.5839e-01, -3.1125e-01])"
      ]
     },
     "execution_count": 8,
     "metadata": {},
     "output_type": "execute_result"
    }
   ],
   "source": [
    "get_word('tranfer')"
   ]
  },
  {
   "cell_type": "code",
   "execution_count": 9,
   "metadata": {},
   "outputs": [],
   "source": [
    "import numpy as np"
   ]
  },
  {
   "cell_type": "code",
   "execution_count": 12,
   "metadata": {},
   "outputs": [
    {
     "ename": "OSError",
     "evalue": "Failed to interpret file 'data/train-v2.0.json' as a pickle",
     "output_type": "error",
     "traceback": [
      "\u001b[0;31m---------------------------------------------------------------------------\u001b[0m",
      "\u001b[0;31mUnpicklingError\u001b[0m                           Traceback (most recent call last)",
      "\u001b[0;32m~/Documents/Fall-2019-Independent-Study-Question-Answering/venv/lib/python3.7/site-packages/numpy/lib/npyio.py\u001b[0m in \u001b[0;36mload\u001b[0;34m(file, mmap_mode, allow_pickle, fix_imports, encoding)\u001b[0m\n\u001b[1;32m    459\u001b[0m             \u001b[0;32mtry\u001b[0m\u001b[0;34m:\u001b[0m\u001b[0;34m\u001b[0m\u001b[0;34m\u001b[0m\u001b[0m\n\u001b[0;32m--> 460\u001b[0;31m                 \u001b[0;32mreturn\u001b[0m \u001b[0mpickle\u001b[0m\u001b[0;34m.\u001b[0m\u001b[0mload\u001b[0m\u001b[0;34m(\u001b[0m\u001b[0mfid\u001b[0m\u001b[0;34m,\u001b[0m \u001b[0;34m**\u001b[0m\u001b[0mpickle_kwargs\u001b[0m\u001b[0;34m)\u001b[0m\u001b[0;34m\u001b[0m\u001b[0;34m\u001b[0m\u001b[0m\n\u001b[0m\u001b[1;32m    461\u001b[0m             \u001b[0;32mexcept\u001b[0m \u001b[0mException\u001b[0m\u001b[0;34m:\u001b[0m\u001b[0;34m\u001b[0m\u001b[0;34m\u001b[0m\u001b[0m\n",
      "\u001b[0;31mUnpicklingError\u001b[0m: invalid load key, '{'.",
      "\nDuring handling of the above exception, another exception occurred:\n",
      "\u001b[0;31mOSError\u001b[0m                                   Traceback (most recent call last)",
      "\u001b[0;32m<ipython-input-12-1e13fae18eff>\u001b[0m in \u001b[0;36m<module>\u001b[0;34m\u001b[0m\n\u001b[0;32m----> 1\u001b[0;31m \u001b[0mnp\u001b[0m\u001b[0;34m.\u001b[0m\u001b[0mload\u001b[0m\u001b[0;34m(\u001b[0m\u001b[0;34m'data/train-v2.0.json'\u001b[0m\u001b[0;34m,\u001b[0m \u001b[0mallow_pickle\u001b[0m\u001b[0;34m=\u001b[0m\u001b[0;32mTrue\u001b[0m\u001b[0;34m)\u001b[0m\u001b[0;34m\u001b[0m\u001b[0;34m\u001b[0m\u001b[0m\n\u001b[0m",
      "\u001b[0;32m~/Documents/Fall-2019-Independent-Study-Question-Answering/venv/lib/python3.7/site-packages/numpy/lib/npyio.py\u001b[0m in \u001b[0;36mload\u001b[0;34m(file, mmap_mode, allow_pickle, fix_imports, encoding)\u001b[0m\n\u001b[1;32m    461\u001b[0m             \u001b[0;32mexcept\u001b[0m \u001b[0mException\u001b[0m\u001b[0;34m:\u001b[0m\u001b[0;34m\u001b[0m\u001b[0;34m\u001b[0m\u001b[0m\n\u001b[1;32m    462\u001b[0m                 raise IOError(\n\u001b[0;32m--> 463\u001b[0;31m                     \"Failed to interpret file %s as a pickle\" % repr(file))\n\u001b[0m\u001b[1;32m    464\u001b[0m     \u001b[0;32mfinally\u001b[0m\u001b[0;34m:\u001b[0m\u001b[0;34m\u001b[0m\u001b[0;34m\u001b[0m\u001b[0m\n\u001b[1;32m    465\u001b[0m         \u001b[0;32mif\u001b[0m \u001b[0mown_fid\u001b[0m\u001b[0;34m:\u001b[0m\u001b[0;34m\u001b[0m\u001b[0;34m\u001b[0m\u001b[0m\n",
      "\u001b[0;31mOSError\u001b[0m: Failed to interpret file 'data/train-v2.0.json' as a pickle"
     ]
    }
   ],
   "source": [
    "np.load('data/train-v2.0.json', allow_pickle=True)"
   ]
  },
  {
   "cell_type": "code",
   "execution_count": null,
   "metadata": {},
   "outputs": [],
   "source": []
  }
 ],
 "metadata": {
  "kernelspec": {
   "display_name": "Python 3",
   "language": "python",
   "name": "python3"
  },
  "language_info": {
   "codemirror_mode": {
    "name": "ipython",
    "version": 3
   },
   "file_extension": ".py",
   "mimetype": "text/x-python",
   "name": "python",
   "nbconvert_exporter": "python",
   "pygments_lexer": "ipython3",
   "version": "3.7.4"
  }
 },
 "nbformat": 4,
 "nbformat_minor": 2
}
