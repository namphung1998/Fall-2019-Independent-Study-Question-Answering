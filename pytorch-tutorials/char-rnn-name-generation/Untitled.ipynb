{
 "cells": [
  {
   "cell_type": "code",
   "execution_count": 2,
   "metadata": {},
   "outputs": [],
   "source": [
    "import torch\n",
    "import torch.nn as nn\n",
    "import torch.nn.functional as F"
   ]
  },
  {
   "cell_type": "code",
   "execution_count": 3,
   "metadata": {},
   "outputs": [
    {
     "name": "stdout",
     "output_type": "stream",
     "text": [
      "hello\n"
     ]
    }
   ],
   "source": [
    "from model.models import GRUGenerator\n",
    "from data_loader.vocab import Vocab"
   ]
  },
  {
   "cell_type": "code",
   "execution_count": 5,
   "metadata": {},
   "outputs": [],
   "source": [
    "vocab = Vocab()\n",
    "gru = GRUGenerator(len(vocab), 4, 4, len(vocab), 0, vocab)"
   ]
  },
  {
   "cell_type": "code",
   "execution_count": 7,
   "metadata": {},
   "outputs": [
    {
     "name": "stdout",
     "output_type": "stream",
     "text": [
      "tensor([[[-0.2735, -0.3829,  0.5953, -0.0058],\n",
      "         [ 0.3881,  0.0875,  0.3332, -0.1437],\n",
      "         [ 0.5565,  0.1163,  0.1404, -0.1887],\n",
      "         [ 0.1794,  0.0023,  0.0227, -0.0785],\n",
      "         [-0.0434, -0.3181,  0.5480, -0.1468],\n",
      "         [-0.1630, -0.4489,  0.8100, -0.2323]],\n",
      "\n",
      "        [[-0.2527, -0.4120,  0.6376, -0.1309],\n",
      "         [-0.5398, -0.4265,  0.1379,  0.1015],\n",
      "         [-0.3279, -0.3246,  0.4653, -0.1091],\n",
      "         [-0.2897, -0.4505,  0.7665, -0.2058],\n",
      "         [ 0.0000,  0.0000,  0.0000,  0.0000],\n",
      "         [ 0.0000,  0.0000,  0.0000,  0.0000]]], grad_fn=<TransposeBackward0>)\n"
     ]
    }
   ],
   "source": [
    "y = gru(['Nguyen', 'Tran'])\n",
    "fc = nn.Linear(4, len(vocab))"
   ]
  },
  {
   "cell_type": "code",
   "execution_count": 14,
   "metadata": {},
   "outputs": [
    {
     "data": {
      "text/plain": [
       "tensor([-0.1577,  0.3681, -0.2438,  0.0781, -0.0489,  0.4008,  0.3206,  0.2690,\n",
       "         0.1754,  0.3348, -0.4700, -0.2532,  0.0565,  0.1879,  0.0439, -0.3618,\n",
       "         0.1223, -0.2051,  0.2082,  0.1943, -0.2625,  0.2285, -0.0359,  0.0479,\n",
       "         0.1184, -0.3073, -0.1050, -0.3708,  0.1417, -0.3930,  0.3086,  0.0814,\n",
       "        -0.3782,  0.0523, -0.0053, -0.1996,  0.2314, -0.3232, -0.1761, -0.2672,\n",
       "         0.4856, -0.2089,  0.2193, -0.4323, -0.0934, -0.0894,  0.4064,  0.3667,\n",
       "         0.2782,  0.0698, -0.4062,  0.1957,  0.2805,  0.1231, -0.4915],\n",
       "       grad_fn=<AddBackward0>)"
      ]
     },
     "execution_count": 14,
     "metadata": {},
     "output_type": "execute_result"
    }
   ],
   "source": [
    "x = torch.tensor([0.0, 0.0, 0.0, 0.0])\n",
    "fc(x)"
   ]
  },
  {
   "cell_type": "code",
   "execution_count": 17,
   "metadata": {},
   "outputs": [
    {
     "data": {
      "text/plain": [
       "torch.Size([6, 55])"
      ]
     },
     "execution_count": 17,
     "metadata": {},
     "output_type": "execute_result"
    }
   ],
   "source": [
    "y[0].shape"
   ]
  },
  {
   "cell_type": "code",
   "execution_count": 10,
   "metadata": {},
   "outputs": [
    {
     "name": "stdout",
     "output_type": "stream",
     "text": [
      "here\n"
     ]
    },
    {
     "data": {
      "text/plain": [
       "[[20, 3, 16, 0], [9, 23, 27, 7, 16, 0]]"
      ]
     },
     "execution_count": 10,
     "metadata": {},
     "output_type": "execute_result"
    }
   ],
   "source": [
    "target = vocab.chars2indices(['ran#', 'guyen#'])\n",
    "target\n"
   ]
  },
  {
   "cell_type": "code",
   "execution_count": 5,
   "metadata": {},
   "outputs": [
    {
     "data": {
      "text/plain": [
       "str"
      ]
     },
     "execution_count": 5,
     "metadata": {},
     "output_type": "execute_result"
    }
   ],
   "source": [
    "type('ran#'[0])"
   ]
  },
  {
   "cell_type": "code",
   "execution_count": 5,
   "metadata": {},
   "outputs": [
    {
     "name": "stdout",
     "output_type": "stream",
     "text": [
      "out here\n"
     ]
    },
    {
     "data": {
      "text/plain": [
       "[20, 3, 16]"
      ]
     },
     "execution_count": 5,
     "metadata": {},
     "output_type": "execute_result"
    }
   ],
   "source": [
    "vocab.chars2indices('ran')"
   ]
  },
  {
   "cell_type": "code",
   "execution_count": null,
   "metadata": {},
   "outputs": [],
   "source": []
  }
 ],
 "metadata": {
  "kernelspec": {
   "display_name": "Python 3 (bert-squad)",
   "language": "python",
   "name": "bert-squad"
  },
  "language_info": {
   "codemirror_mode": {
    "name": "ipython",
    "version": 3
   },
   "file_extension": ".py",
   "mimetype": "text/x-python",
   "name": "python",
   "nbconvert_exporter": "python",
   "pygments_lexer": "ipython3",
   "version": "3.7.4"
  }
 },
 "nbformat": 4,
 "nbformat_minor": 2
}
